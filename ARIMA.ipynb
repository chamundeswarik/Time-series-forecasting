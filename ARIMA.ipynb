{
 "cells": [
  {
   "cell_type": "markdown",
   "metadata": {},
   "source": [
    "### Building a Trading strategy for Alphabet Inc stock by using ARIMA forecasting method"
   ]
  },
  {
   "cell_type": "markdown",
   "metadata": {},
   "source": [
    "ARIMA model is built for forecasting the Alphabet stock price which if further used for building the trading strategies.\n",
    "\n",
    "Data: Alphabet Inc Adjusted Close price data for over 16 years is pulled from Yahoo finance website.  "
   ]
  },
  {
   "cell_type": "markdown",
   "metadata": {},
   "source": [
    "## Load data"
   ]
  },
  {
   "cell_type": "code",
   "execution_count": 1,
   "metadata": {},
   "outputs": [],
   "source": [
    "#Import libraries\n",
    "import numpy as np, pandas as pd\n",
    "import warnings\n",
    "warnings.filterwarnings(\"ignore\")"
   ]
  },
  {
   "cell_type": "code",
   "execution_count": 2,
   "metadata": {
    "scrolled": true
   },
   "outputs": [
    {
     "data": {
      "text/html": [
       "<div>\n",
       "<style scoped>\n",
       "    .dataframe tbody tr th:only-of-type {\n",
       "        vertical-align: middle;\n",
       "    }\n",
       "\n",
       "    .dataframe tbody tr th {\n",
       "        vertical-align: top;\n",
       "    }\n",
       "\n",
       "    .dataframe thead th {\n",
       "        text-align: right;\n",
       "    }\n",
       "</style>\n",
       "<table border=\"1\" class=\"dataframe\">\n",
       "  <thead>\n",
       "    <tr style=\"text-align: right;\">\n",
       "      <th></th>\n",
       "      <th>Date</th>\n",
       "      <th>price</th>\n",
       "    </tr>\n",
       "  </thead>\n",
       "  <tbody>\n",
       "    <tr>\n",
       "      <td>0</td>\n",
       "      <td>2004-08-19</td>\n",
       "      <td>49.982655</td>\n",
       "    </tr>\n",
       "    <tr>\n",
       "      <td>1</td>\n",
       "      <td>2004-08-20</td>\n",
       "      <td>53.952770</td>\n",
       "    </tr>\n",
       "    <tr>\n",
       "      <td>2</td>\n",
       "      <td>2004-08-23</td>\n",
       "      <td>54.495735</td>\n",
       "    </tr>\n",
       "    <tr>\n",
       "      <td>3</td>\n",
       "      <td>2004-08-24</td>\n",
       "      <td>52.239193</td>\n",
       "    </tr>\n",
       "    <tr>\n",
       "      <td>4</td>\n",
       "      <td>2004-08-25</td>\n",
       "      <td>52.802086</td>\n",
       "    </tr>\n",
       "  </tbody>\n",
       "</table>\n",
       "</div>"
      ],
      "text/plain": [
       "        Date      price\n",
       "0 2004-08-19  49.982655\n",
       "1 2004-08-20  53.952770\n",
       "2 2004-08-23  54.495735\n",
       "3 2004-08-24  52.239193\n",
       "4 2004-08-25  52.802086"
      ]
     },
     "execution_count": 2,
     "metadata": {},
     "output_type": "execute_result"
    }
   ],
   "source": [
    "# Load ALPHABET INC stock csv data and store to a dataframe and convert Date into Datetime format\n",
    "df=pd.read_csv(\"D:\\\\Courses\\\\Data.csv\")  \n",
    "df= df.rename(columns={'Adj_Close': 'price'})\n",
    "df['Date'] =  pd.to_datetime(df['Date'])\n",
    "df.fillna(method='ffill', inplace=True)\n",
    "df.head()"
   ]
  },
  {
   "cell_type": "code",
   "execution_count": 3,
   "metadata": {},
   "outputs": [
    {
     "data": {
      "text/html": [
       "<div>\n",
       "<style scoped>\n",
       "    .dataframe tbody tr th:only-of-type {\n",
       "        vertical-align: middle;\n",
       "    }\n",
       "\n",
       "    .dataframe tbody tr th {\n",
       "        vertical-align: top;\n",
       "    }\n",
       "\n",
       "    .dataframe thead th {\n",
       "        text-align: right;\n",
       "    }\n",
       "</style>\n",
       "<table border=\"1\" class=\"dataframe\">\n",
       "  <thead>\n",
       "    <tr style=\"text-align: right;\">\n",
       "      <th></th>\n",
       "      <th>price</th>\n",
       "    </tr>\n",
       "    <tr>\n",
       "      <th>Date</th>\n",
       "      <th></th>\n",
       "    </tr>\n",
       "  </thead>\n",
       "  <tbody>\n",
       "    <tr>\n",
       "      <td>2004-08-19</td>\n",
       "      <td>49.982655</td>\n",
       "    </tr>\n",
       "    <tr>\n",
       "      <td>2004-08-20</td>\n",
       "      <td>53.952770</td>\n",
       "    </tr>\n",
       "    <tr>\n",
       "      <td>2004-08-23</td>\n",
       "      <td>54.495735</td>\n",
       "    </tr>\n",
       "    <tr>\n",
       "      <td>2004-08-24</td>\n",
       "      <td>52.239193</td>\n",
       "    </tr>\n",
       "    <tr>\n",
       "      <td>2004-08-25</td>\n",
       "      <td>52.802086</td>\n",
       "    </tr>\n",
       "  </tbody>\n",
       "</table>\n",
       "</div>"
      ],
      "text/plain": [
       "                price\n",
       "Date                 \n",
       "2004-08-19  49.982655\n",
       "2004-08-20  53.952770\n",
       "2004-08-23  54.495735\n",
       "2004-08-24  52.239193\n",
       "2004-08-25  52.802086"
      ]
     },
     "execution_count": 3,
     "metadata": {},
     "output_type": "execute_result"
    }
   ],
   "source": [
    "#set date as the index of the dataframe\n",
    "df.set_index('Date',inplace=True)\n",
    "df.head()"
   ]
  },
  {
   "cell_type": "code",
   "execution_count": 4,
   "metadata": {},
   "outputs": [
    {
     "data": {
      "text/html": [
       "<div>\n",
       "<style scoped>\n",
       "    .dataframe tbody tr th:only-of-type {\n",
       "        vertical-align: middle;\n",
       "    }\n",
       "\n",
       "    .dataframe tbody tr th {\n",
       "        vertical-align: top;\n",
       "    }\n",
       "\n",
       "    .dataframe thead th {\n",
       "        text-align: right;\n",
       "    }\n",
       "</style>\n",
       "<table border=\"1\" class=\"dataframe\">\n",
       "  <thead>\n",
       "    <tr style=\"text-align: right;\">\n",
       "      <th></th>\n",
       "      <th>price</th>\n",
       "    </tr>\n",
       "  </thead>\n",
       "  <tbody>\n",
       "    <tr>\n",
       "      <td>count</td>\n",
       "      <td>3898.000000</td>\n",
       "    </tr>\n",
       "    <tr>\n",
       "      <td>mean</td>\n",
       "      <td>496.837624</td>\n",
       "    </tr>\n",
       "    <tr>\n",
       "      <td>std</td>\n",
       "      <td>347.460766</td>\n",
       "    </tr>\n",
       "    <tr>\n",
       "      <td>min</td>\n",
       "      <td>49.818268</td>\n",
       "    </tr>\n",
       "    <tr>\n",
       "      <td>25%</td>\n",
       "      <td>237.037773</td>\n",
       "    </tr>\n",
       "    <tr>\n",
       "      <td>50%</td>\n",
       "      <td>321.781387</td>\n",
       "    </tr>\n",
       "    <tr>\n",
       "      <td>75%</td>\n",
       "      <td>728.327515</td>\n",
       "    </tr>\n",
       "    <tr>\n",
       "      <td>max</td>\n",
       "      <td>1518.270020</td>\n",
       "    </tr>\n",
       "  </tbody>\n",
       "</table>\n",
       "</div>"
      ],
      "text/plain": [
       "             price\n",
       "count  3898.000000\n",
       "mean    496.837624\n",
       "std     347.460766\n",
       "min      49.818268\n",
       "25%     237.037773\n",
       "50%     321.781387\n",
       "75%     728.327515\n",
       "max    1518.270020"
      ]
     },
     "execution_count": 4,
     "metadata": {},
     "output_type": "execute_result"
    }
   ],
   "source": [
    "df.describe()"
   ]
  },
  {
   "cell_type": "markdown",
   "metadata": {},
   "source": [
    "## Visualise the data"
   ]
  },
  {
   "cell_type": "code",
   "execution_count": 5,
   "metadata": {
    "scrolled": true
   },
   "outputs": [
    {
     "data": {
      "text/plain": [
       "<matplotlib.axes._subplots.AxesSubplot at 0x1e517da3c88>"
      ]
     },
     "execution_count": 5,
     "metadata": {},
     "output_type": "execute_result"
    }
   ],
   "source": [
    "#plot to visualise the time series trend\n",
    "from matplotlib import pyplot as plt\n",
    "df['price'].plot()"
   ]
  },
  {
   "cell_type": "markdown",
   "metadata": {},
   "source": [
    "From the above plot it is clear that Alphabet stock price has clearly an increasing trend which indicates that this time series data is not stationary. "
   ]
  },
  {
   "cell_type": "markdown",
   "metadata": {},
   "source": [
    "#### Test Train splits \n",
    "\n",
    "To test the built ARIMA model, data is split into train and test. Last ~300 data points in the time series data will be forecasted and the test data separated here would be used to compare the forecasted results."
   ]
  },
  {
   "cell_type": "code",
   "execution_count": 10,
   "metadata": {},
   "outputs": [
    {
     "data": {
      "text/html": [
       "<div>\n",
       "<style scoped>\n",
       "    .dataframe tbody tr th:only-of-type {\n",
       "        vertical-align: middle;\n",
       "    }\n",
       "\n",
       "    .dataframe tbody tr th {\n",
       "        vertical-align: top;\n",
       "    }\n",
       "\n",
       "    .dataframe thead th {\n",
       "        text-align: right;\n",
       "    }\n",
       "</style>\n",
       "<table border=\"1\" class=\"dataframe\">\n",
       "  <thead>\n",
       "    <tr style=\"text-align: right;\">\n",
       "      <th></th>\n",
       "      <th>price</th>\n",
       "    </tr>\n",
       "    <tr>\n",
       "      <th>Date</th>\n",
       "      <th></th>\n",
       "    </tr>\n",
       "  </thead>\n",
       "  <tbody>\n",
       "    <tr>\n",
       "      <td>2019-09-17</td>\n",
       "      <td>1229.150024</td>\n",
       "    </tr>\n",
       "    <tr>\n",
       "      <td>2019-09-18</td>\n",
       "      <td>1232.410034</td>\n",
       "    </tr>\n",
       "    <tr>\n",
       "      <td>2019-09-19</td>\n",
       "      <td>1238.709961</td>\n",
       "    </tr>\n",
       "    <tr>\n",
       "      <td>2019-09-20</td>\n",
       "      <td>1229.930054</td>\n",
       "    </tr>\n",
       "    <tr>\n",
       "      <td>2019-09-23</td>\n",
       "      <td>1234.030029</td>\n",
       "    </tr>\n",
       "  </tbody>\n",
       "</table>\n",
       "</div>"
      ],
      "text/plain": [
       "                  price\n",
       "Date                   \n",
       "2019-09-17  1229.150024\n",
       "2019-09-18  1232.410034\n",
       "2019-09-19  1238.709961\n",
       "2019-09-20  1229.930054\n",
       "2019-09-23  1234.030029"
      ]
     },
     "execution_count": 10,
     "metadata": {},
     "output_type": "execute_result"
    }
   ],
   "source": [
    "#divide data into training and testing\n",
    "train = df[:3800]\n",
    "test = df[3800:]\n",
    "train.tail()"
   ]
  },
  {
   "cell_type": "code",
   "execution_count": 11,
   "metadata": {},
   "outputs": [
    {
     "data": {
      "text/html": [
       "<div>\n",
       "<style scoped>\n",
       "    .dataframe tbody tr th:only-of-type {\n",
       "        vertical-align: middle;\n",
       "    }\n",
       "\n",
       "    .dataframe tbody tr th {\n",
       "        vertical-align: top;\n",
       "    }\n",
       "\n",
       "    .dataframe thead th {\n",
       "        text-align: right;\n",
       "    }\n",
       "</style>\n",
       "<table border=\"1\" class=\"dataframe\">\n",
       "  <thead>\n",
       "    <tr style=\"text-align: right;\">\n",
       "      <th></th>\n",
       "      <th>price</th>\n",
       "    </tr>\n",
       "    <tr>\n",
       "      <th>Date</th>\n",
       "      <th></th>\n",
       "    </tr>\n",
       "  </thead>\n",
       "  <tbody>\n",
       "    <tr>\n",
       "      <td>2019-09-24</td>\n",
       "      <td>1218.760010</td>\n",
       "    </tr>\n",
       "    <tr>\n",
       "      <td>2019-09-25</td>\n",
       "      <td>1246.520020</td>\n",
       "    </tr>\n",
       "    <tr>\n",
       "      <td>2019-09-26</td>\n",
       "      <td>1241.390015</td>\n",
       "    </tr>\n",
       "    <tr>\n",
       "      <td>2019-09-27</td>\n",
       "      <td>1225.089966</td>\n",
       "    </tr>\n",
       "    <tr>\n",
       "      <td>2019-09-30</td>\n",
       "      <td>1219.000000</td>\n",
       "    </tr>\n",
       "  </tbody>\n",
       "</table>\n",
       "</div>"
      ],
      "text/plain": [
       "                  price\n",
       "Date                   \n",
       "2019-09-24  1218.760010\n",
       "2019-09-25  1246.520020\n",
       "2019-09-26  1241.390015\n",
       "2019-09-27  1225.089966\n",
       "2019-09-30  1219.000000"
      ]
     },
     "execution_count": 11,
     "metadata": {},
     "output_type": "execute_result"
    }
   ],
   "source": [
    "test.head()"
   ]
  },
  {
   "cell_type": "code",
   "execution_count": 12,
   "metadata": {},
   "outputs": [
    {
     "data": {
      "image/png": "[encoded data removed]",
      "text/plain": [
       "<Figure size 432x288 with 1 Axes>"
      ]
     },
     "metadata": {
      "needs_background": "light"
     },
     "output_type": "display_data"
    }
   ],
   "source": [
    "plt.xlabel('Date')\n",
    "plt.ylabel('Price')\n",
    "plt.plot(train, 'green')\n",
    "plt.plot(test, 'red')\n",
    "plt.legend(['Training data','Testing data'])\n",
    "plt.show()"
   ]
  },
  {
   "cell_type": "markdown",
   "metadata": {},
   "source": [
    "## ADF test to check stationarity"
   ]
  },
  {
   "cell_type": "markdown",
   "metadata": {},
   "source": [
    "Although above plot clearly indicates that the time series data is not stationary, ADF (Augmented Dickey fuller) test is further performed to check the stationarity in a statistical manner"
   ]
  },
  {
   "cell_type": "code",
   "execution_count": 13,
   "metadata": {
    "scrolled": true
   },
   "outputs": [
    {
     "name": "stdout",
     "output_type": "stream",
     "text": [
      "ADF Statistic: 0.636264\n",
      "p-value: 0.988476\n"
     ]
    }
   ],
   "source": [
    "#ADF Test to check if time series is stationary or non-stationary\n",
    "\n",
    "from statsmodels.tsa.stattools import adfuller\n",
    "X = train['price']\n",
    "result = adfuller(X)\n",
    "print('ADF Statistic: %f' % result[0])\n",
    "print('p-value: %f' % result[1])\n",
    "\n",
    "\n",
    "#The null hypothesis of the ADF test is that the time series is non-stationary\n",
    "#So, if the p-value of the test is less than significance level (0.05) then you reject the null hypothesis and infer that the time series is indeed stationary.\n"
   ]
  },
  {
   "cell_type": "markdown",
   "metadata": {},
   "source": [
    "Since P value is very high, it clearly shows that the time series is non stationary and we need to perform differencing for making the series stationary"
   ]
  },
  {
   "cell_type": "code",
   "execution_count": 14,
   "metadata": {
    "scrolled": true
   },
   "outputs": [
    {
     "data": {
      "text/plain": [
       "<matplotlib.axes._subplots.AxesSubplot at 0x1e52875d848>"
      ]
     },
     "execution_count": 14,
     "metadata": {},
     "output_type": "execute_result"
    },
    {
     "data": {
      "image/png": "[encoded data removed]",
      "text/plain": [
       "<Figure size 432x288 with 1 Axes>"
      ]
     },
     "metadata": {
      "needs_background": "light"
     },
     "output_type": "display_data"
    }
   ],
   "source": [
    "# as p-value >0.05, differencing\n",
    "train['price_diff'] = train['price'] - train['price'].shift(1)\n",
    "train['price_diff'].dropna().plot()"
   ]
  },
  {
   "cell_type": "markdown",
   "metadata": {},
   "source": [
    "## 'd' value"
   ]
  },
  {
   "cell_type": "markdown",
   "metadata": {},
   "source": [
    "After performing the first differencing, despite the above plot which shows stationary, we perform ADF test again to confirm statistically"
   ]
  },
  {
   "cell_type": "code",
   "execution_count": 15,
   "metadata": {},
   "outputs": [
    {
     "name": "stdout",
     "output_type": "stream",
     "text": [
      "ADF Statistic: -11.490638\n",
      "p-value: 0.000000\n"
     ]
    }
   ],
   "source": [
    "#ADF Test to check if time series is stationary or non-stationary after first differencing\n",
    "X_1 = train['price_diff'].dropna()\n",
    "result = adfuller(X_1)\n",
    "print('ADF Statistic: %f' % result[0])\n",
    "print('p-value: %f' % result[1])"
   ]
  },
  {
   "cell_type": "markdown",
   "metadata": {},
   "source": [
    "Above p-value indicates that first differencing has made the data stationary. Hence the value of 1 can be used as a differencing 'd' parameter in the ARIMA model. Next step is to identify the right 'p' & 'q' values for the ARIMA model using ACF & PACH plots as shown below."
   ]
  },
  {
   "cell_type": "markdown",
   "metadata": {},
   "source": [
    "## 'p' , 'q' : ACF and PACF"
   ]
  },
  {
   "cell_type": "code",
   "execution_count": 16,
   "metadata": {},
   "outputs": [],
   "source": [
    "from statsmodels.graphics.tsaplots import plot_acf,plot_pacf\n",
    "import statsmodels.api as sm"
   ]
  },
  {
   "cell_type": "code",
   "execution_count": 17,
   "metadata": {
    "scrolled": true
   },
   "outputs": [
    {
     "data": {
      "image/png": "[encoded data removed]",
      "text/plain": [
       "<Figure size 864x576 with 2 Axes>"
      ]
     },
     "metadata": {
      "needs_background": "light"
     },
     "output_type": "display_data"
    }
   ],
   "source": [
    "fig = plt.figure(figsize=(12,8))\n",
    "ax1 = fig.add_subplot(211)\n",
    "fig = sm.graphics.tsa.plot_acf(train['price_diff'].iloc[1:],lags=10, zero = False, ax=ax1)\n",
    "ax2 = fig.add_subplot(212)\n",
    "fig = sm.graphics.tsa.plot_pacf(train['price_diff'].iloc[1:],lags=10, zero = False, ax=ax2)"
   ]
  },
  {
   "cell_type": "markdown",
   "metadata": {},
   "source": [
    "We take p = 2 and q =2 as with any next level of differencing, the Autocorrelation plot goes into the far negative zone fairly quickly, which indicates, the series might have been over-differenced."
   ]
  },
  {
   "cell_type": "markdown",
   "metadata": {},
   "source": [
    "## Tuning p(AR) term"
   ]
  },
  {
   "cell_type": "code",
   "execution_count": 20,
   "metadata": {},
   "outputs": [],
   "source": [
    "from statsmodels.tsa.arima_model import ARIMA\n",
    "import warnings\n",
    "warnings.filterwarnings(\"ignore\")\n",
    "\n",
    "# empty list to store aic/bic score\n",
    "aic_p = []\n",
    "bic_p = []\n",
    "\n",
    "# p values\n",
    "p = range(1,6) # [1,2,3,4,5]\n",
    "\n",
    "# aic/bic score for different values of p\n",
    "for i in p:\n",
    "    model = ARIMA(train['price'], order=(i,1,0)) # define AR model\n",
    "    model_fit = model.fit(disp=-1) # fit the model\n",
    "    aic_temp = model_fit.aic # get aic score\n",
    "    bic_temp = model_fit.bic # get bic score\n",
    "    aic_p.append(aic_temp) # append aic score\n",
    "    bic_p.append(bic_temp) # append bic score"
   ]
  },
  {
   "cell_type": "code",
   "execution_count": 21,
   "metadata": {
    "scrolled": true
   },
   "outputs": [
    {
     "data": {
      "image/png": "[encoded data removed]",
      "text/plain": [
       "<Figure size 432x288 with 1 Axes>"
      ]
     },
     "metadata": {
      "needs_background": "light"
     },
     "output_type": "display_data"
    }
   ],
   "source": [
    "# Plot of AIC/BIC score for AR term\n",
    "plt.plot(range(1,6),aic_p, color='red')\n",
    "plt.plot(range(1,6),bic_p)\n",
    "plt.title('Tuning AR term')\n",
    "plt.xlabel('p (AR term)')\n",
    "plt.ylabel('AIC/BIC score')\n",
    "plt.legend(['AIC score','BIC score'])\n",
    "plt.show()"
   ]
  },
  {
   "cell_type": "markdown",
   "metadata": {},
   "source": [
    "## Tuning q(MA) term"
   ]
  },
  {
   "cell_type": "code",
   "execution_count": 22,
   "metadata": {},
   "outputs": [],
   "source": [
    "# empty list to store aic/bic score\n",
    "aic_q = []\n",
    "bic_q = []\n",
    "\n",
    "# q values\n",
    "q = range(1,6) # [1,2,3,4,5]\n",
    "\n",
    "# aic/bic score for different values of q\n",
    "for i in q:\n",
    "    model = ARIMA(train['price'], order=(0,1,i)) # define MA model\n",
    "    model_fit = model.fit(disp=-1) # fit the model\n",
    "    aic_temp = model_fit.aic # get aic score\n",
    "    bic_temp = model_fit.bic # get bic score\n",
    "    aic_q.append(aic_temp) # append aic score\n",
    "    bic_q.append(bic_temp) # append bic score"
   ]
  },
  {
   "cell_type": "code",
   "execution_count": 23,
   "metadata": {},
   "outputs": [
    {
     "data": {
      "image/png": "[encoded data removed]",
      "text/plain": [
       "<Figure size 432x288 with 1 Axes>"
      ]
     },
     "metadata": {
      "needs_background": "light"
     },
     "output_type": "display_data"
    }
   ],
   "source": [
    "# Plot of AIC/BIC score for MA term\n",
    "plt.plot(range(1,6),aic_q, color='red')\n",
    "plt.plot(range(1,6),bic_q)\n",
    "plt.title('Tuning MA term')\n",
    "plt.xlabel('q (MA term)')\n",
    "plt.ylabel('AIC/BIC score')\n",
    "plt.legend(['AIC score','BIC score'])\n",
    "plt.show()"
   ]
  },
  {
   "cell_type": "markdown",
   "metadata": {},
   "source": [
    "## ARIMA"
   ]
  },
  {
   "cell_type": "code",
   "execution_count": 26,
   "metadata": {},
   "outputs": [],
   "source": [
    "predictions_1 = list()\n",
    "train_data = [x for x in train['price']]\n",
    "for t in range(test.shape[0]):\n",
    "    model = ARIMA(train_data, order=(2,1,2))\n",
    "    model_fit_1 = model.fit(disp=0)\n",
    "    output = model_fit_1.forecast()\n",
    "    yhat = output[0]\n",
    "    predictions_1.append(yhat)\n",
    "    obs = test.price[t]\n",
    "    train_data.append(obs)\n"
   ]
  },
  {
   "cell_type": "code",
   "execution_count": 27,
   "metadata": {},
   "outputs": [
    {
     "name": "stdout",
     "output_type": "stream",
     "text": [
      "predicted=[1234.51153123], expected=1218.76001\n",
      "predicted=[1218.11081559], expected=1246.52002\n",
      "predicted=[1247.897679], expected=1241.390015\n",
      "predicted=[1239.47672795], expected=1225.089966\n",
      "predicted=[1226.17471968], expected=1219.0\n",
      "predicted=[1218.95720741], expected=1205.099976\n",
      "predicted=[1206.24941663], expected=1176.630005\n",
      "predicted=[1177.56331007], expected=1187.829956\n",
      "predicted=[1190.58767404], expected=1209.0\n",
      "predicted=[1209.44613707], expected=1207.680054\n",
      "predicted=[1208.24928089], expected=1189.130005\n",
      "predicted=[1189.5911061], expected=1202.310059\n",
      "predicted=[1204.08058844], expected=1208.670044\n",
      "predicted=[1208.46228456], expected=1215.449951\n",
      "predicted=[1216.23133809], expected=1217.140015\n"
     ]
    }
   ],
   "source": [
    "# Predicted and Actual Values\n",
    "for i in range(0,15):\n",
    "    print('predicted={pred}, expected={test}'.format(pred=predictions_1[i],test=test['price'][i]))\n",
    "    "
   ]
  },
  {
   "cell_type": "code",
   "execution_count": 28,
   "metadata": {},
   "outputs": [
    {
     "name": "stdout",
     "output_type": "stream",
     "text": [
      "Test MSE: 230.964\n"
     ]
    }
   ],
   "source": [
    "from sklearn.metrics import mean_squared_error\n",
    "error = mean_squared_error(test, predictions_1)\n",
    "print('Test MSE: %.3f' % error)\n"
   ]
  },
  {
   "cell_type": "code",
   "execution_count": 33,
   "metadata": {},
   "outputs": [
    {
     "name": "stdout",
     "output_type": "stream",
     "text": [
      "                             ARIMA Model Results                              \n",
      "==============================================================================\n",
      "Dep. Variable:                    D.y   No. Observations:                 3896\n",
      "Model:                 ARIMA(2, 1, 2)   Log Likelihood              -14147.991\n",
      "Method:                       css-mle   S.D. of innovations              9.138\n",
      "Date:                Thu, 04 Jun 2020   AIC                          28307.982\n",
      "Time:                        12:50:59   BIC                          28345.589\n",
      "Sample:                             1   HQIC                         28321.331\n",
      "                                                                              \n",
      "==============================================================================\n",
      "                 coef    std err          z      P>|z|      [0.025      0.975]\n",
      "------------------------------------------------------------------------------\n",
      "const          0.3723      0.119      3.132      0.002       0.139       0.605\n",
      "ar.L1.D.y      0.0797      0.163      0.488      0.625      -0.240       0.400\n",
      "ar.L2.D.y      0.5943      0.150      3.959      0.000       0.300       0.889\n",
      "ma.L1.D.y     -0.0829      0.155     -0.534      0.594      -0.387       0.222\n",
      "ma.L2.D.y     -0.6526      0.144     -4.532      0.000      -0.935      -0.370\n",
      "                                    Roots                                    \n",
      "=============================================================================\n",
      "                  Real          Imaginary           Modulus         Frequency\n",
      "-----------------------------------------------------------------------------\n",
      "AR.1            1.2318           +0.0000j            1.2318            0.0000\n",
      "AR.2           -1.3659           +0.0000j            1.3659            0.5000\n",
      "MA.1            1.1760           +0.0000j            1.1760            0.0000\n",
      "MA.2           -1.3031           +0.0000j            1.3031            0.5000\n",
      "-----------------------------------------------------------------------------\n",
      "                 0\n",
      "count  3896.000000\n",
      "mean      0.000021\n",
      "std       9.139465\n",
      "min     -98.499380\n",
      "25%      -3.159867\n",
      "50%      -0.131314\n",
      "75%       3.250900\n",
      "max     117.822293\n"
     ]
    },
    {
     "data": {
      "image/png": "[encoded data removed]",
      "text/plain": [
       "<Figure size 432x288 with 1 Axes>"
      ]
     },
     "metadata": {
      "needs_background": "light"
     },
     "output_type": "display_data"
    },
    {
     "data": {
      "image/png": "[encoded data removed]",
      "text/plain": [
       "<Figure size 432x288 with 1 Axes>"
      ]
     },
     "metadata": {
      "needs_background": "light"
     },
     "output_type": "display_data"
    },
    {
     "name": "stdout",
     "output_type": "stream",
     "text": [
      "                 0\n",
      "count  3896.000000\n",
      "mean      0.000021\n",
      "std       9.139465\n",
      "min     -98.499380\n",
      "25%      -3.159867\n",
      "50%      -0.131314\n",
      "75%       3.250900\n",
      "max     117.822293\n"
     ]
    }
   ],
   "source": [
    "print(model_fit_1.summary())\n",
    "\n",
    "# plot residual errors\n",
    "residuals = pd.DataFrame(model_fit_1.resid)\n",
    "residuals.plot()\n",
    "print(residuals.describe())\n",
    "plt.show()\n",
    "residuals.plot(kind='kde')\n",
    "plt.show()\n",
    "print(residuals.describe())\n"
   ]
  },
  {
   "cell_type": "markdown",
   "metadata": {},
   "source": [
    "Although the direction is predicted correctly, we can implement trading strategy of buy or sell - the magnitude is not accurate which can be seen from MSE. Machine learning models can be further used to build better model\n"
   ]
  }
 ],
 "metadata": {
  "kernelspec": {
   "display_name": "Python 3",
   "language": "python",
   "name": "python3"
  },
  "language_info": {
   "codemirror_mode": {
    "name": "ipython",
    "version": 3
   },
   "file_extension": ".py",
   "mimetype": "text/x-python",
   "name": "python",
   "nbconvert_exporter": "python",
   "pygments_lexer": "ipython3",
   "version": "3.7.4"
  }
 },
 "nbformat": 4,
 "nbformat_minor": 2
}
