{
 "cells": [
  {
   "cell_type": "markdown",
   "metadata": {},
   "source": [
    "### Building a Trading strategy for Alphabet Inc stock by using ARIMA forecasting method"
   ]
  },
  {
   "cell_type": "markdown",
   "metadata": {},
   "source": [
    "ARIMA model is built for forecasting the Alphabet stock price which if further used for building the trading strategies.\n",
    "\n",
    "Data: Alphabet Inc Adjusted Close price data for over 16 years is pulled from Yahoo finance website.  "
   ]
  },
  {
   "cell_type": "markdown",
   "metadata": {},
   "source": [
    "## Load data"
   ]
  },
  {
   "cell_type": "code",
   "execution_count": 1,
   "metadata": {},
   "outputs": [],
   "source": [
    "#Import libraries\n",
    "import numpy as np, pandas as pd\n",
    "import warnings\n",
    "warnings.filterwarnings(\"ignore\")"
   ]
  },
  {
   "cell_type": "code",
   "execution_count": 2,
   "metadata": {
    "scrolled": true
   },
   "outputs": [
    {
     "data": {
      "text/html": [
       "<div>\n",
       "<style scoped>\n",
       "    .dataframe tbody tr th:only-of-type {\n",
       "        vertical-align: middle;\n",
       "    }\n",
       "\n",
       "    .dataframe tbody tr th {\n",
       "        vertical-align: top;\n",
       "    }\n",
       "\n",
       "    .dataframe thead th {\n",
       "        text-align: right;\n",
       "    }\n",
       "</style>\n",
       "<table border=\"1\" class=\"dataframe\">\n",
       "  <thead>\n",
       "    <tr style=\"text-align: right;\">\n",
       "      <th></th>\n",
       "      <th>Date</th>\n",
       "      <th>price</th>\n",
       "    </tr>\n",
       "  </thead>\n",
       "  <tbody>\n",
       "    <tr>\n",
       "      <td>0</td>\n",
       "      <td>2004-08-19</td>\n",
       "      <td>49.982655</td>\n",
       "    </tr>\n",
       "    <tr>\n",
       "      <td>1</td>\n",
       "      <td>2004-08-20</td>\n",
       "      <td>53.952770</td>\n",
       "    </tr>\n",
       "    <tr>\n",
       "      <td>2</td>\n",
       "      <td>2004-08-23</td>\n",
       "      <td>54.495735</td>\n",
       "    </tr>\n",
       "    <tr>\n",
       "      <td>3</td>\n",
       "      <td>2004-08-24</td>\n",
       "      <td>52.239193</td>\n",
       "    </tr>\n",
       "    <tr>\n",
       "      <td>4</td>\n",
       "      <td>2004-08-25</td>\n",
       "      <td>52.802086</td>\n",
       "    </tr>\n",
       "  </tbody>\n",
       "</table>\n",
       "</div>"
      ],
      "text/plain": [
       "        Date      price\n",
       "0 2004-08-19  49.982655\n",
       "1 2004-08-20  53.952770\n",
       "2 2004-08-23  54.495735\n",
       "3 2004-08-24  52.239193\n",
       "4 2004-08-25  52.802086"
      ]
     },
     "execution_count": 2,
     "metadata": {},
     "output_type": "execute_result"
    }
   ],
   "source": [
    "# Load ALPHABET INC stock csv data and store to a dataframe and convert Date into Datetime format\n",
    "df=pd.read_csv(\"D:\\\\Courses\\\\Data.csv\")  \n",
    "df= df.rename(columns={'Adj_Close': 'price'})\n",
    "df['Date'] =  pd.to_datetime(df['Date'])\n",
    "df.fillna(method='ffill', inplace=True)\n",
    "df.head()"
   ]
  },
  {
   "cell_type": "code",
   "execution_count": 3,
   "metadata": {},
   "outputs": [
    {
     "data": {
      "text/html": [
       "<div>\n",
       "<style scoped>\n",
       "    .dataframe tbody tr th:only-of-type {\n",
       "        vertical-align: middle;\n",
       "    }\n",
       "\n",
       "    .dataframe tbody tr th {\n",
       "        vertical-align: top;\n",
       "    }\n",
       "\n",
       "    .dataframe thead th {\n",
       "        text-align: right;\n",
       "    }\n",
       "</style>\n",
       "<table border=\"1\" class=\"dataframe\">\n",
       "  <thead>\n",
       "    <tr style=\"text-align: right;\">\n",
       "      <th></th>\n",
       "      <th>price</th>\n",
       "    </tr>\n",
       "    <tr>\n",
       "      <th>Date</th>\n",
       "      <th></th>\n",
       "    </tr>\n",
       "  </thead>\n",
       "  <tbody>\n",
       "    <tr>\n",
       "      <td>2004-08-19</td>\n",
       "      <td>49.982655</td>\n",
       "    </tr>\n",
       "    <tr>\n",
       "      <td>2004-08-20</td>\n",
       "      <td>53.952770</td>\n",
       "    </tr>\n",
       "    <tr>\n",
       "      <td>2004-08-23</td>\n",
       "      <td>54.495735</td>\n",
       "    </tr>\n",
       "    <tr>\n",
       "      <td>2004-08-24</td>\n",
       "      <td>52.239193</td>\n",
       "    </tr>\n",
       "    <tr>\n",
       "      <td>2004-08-25</td>\n",
       "      <td>52.802086</td>\n",
       "    </tr>\n",
       "  </tbody>\n",
       "</table>\n",
       "</div>"
      ],
      "text/plain": [
       "                price\n",
       "Date                 \n",
       "2004-08-19  49.982655\n",
       "2004-08-20  53.952770\n",
       "2004-08-23  54.495735\n",
       "2004-08-24  52.239193\n",
       "2004-08-25  52.802086"
      ]
     },
     "execution_count": 3,
     "metadata": {},
     "output_type": "execute_result"
    }
   ],
   "source": [
    "#set date as the index of the dataframe\n",
    "df.set_index('Date',inplace=True)\n",
    "df.head()"
   ]
  },
  {
   "cell_type": "code",
   "execution_count": 4,
   "metadata": {},
   "outputs": [
    {
     "data": {
      "text/html": [
       "<div>\n",
       "<style scoped>\n",
       "    .dataframe tbody tr th:only-of-type {\n",
       "        vertical-align: middle;\n",
       "    }\n",
       "\n",
       "    .dataframe tbody tr th {\n",
       "        vertical-align: top;\n",
       "    }\n",
       "\n",
       "    .dataframe thead th {\n",
       "        text-align: right;\n",
       "    }\n",
       "</style>\n",
       "<table border=\"1\" class=\"dataframe\">\n",
       "  <thead>\n",
       "    <tr style=\"text-align: right;\">\n",
       "      <th></th>\n",
       "      <th>price</th>\n",
       "    </tr>\n",
       "  </thead>\n",
       "  <tbody>\n",
       "    <tr>\n",
       "      <td>count</td>\n",
       "      <td>3934.000000</td>\n",
       "    </tr>\n",
       "    <tr>\n",
       "      <td>mean</td>\n",
       "      <td>503.835213</td>\n",
       "    </tr>\n",
       "    <tr>\n",
       "      <td>std</td>\n",
       "      <td>353.762827</td>\n",
       "    </tr>\n",
       "    <tr>\n",
       "      <td>min</td>\n",
       "      <td>49.818268</td>\n",
       "    </tr>\n",
       "    <tr>\n",
       "      <td>25%</td>\n",
       "      <td>237.599419</td>\n",
       "    </tr>\n",
       "    <tr>\n",
       "      <td>50%</td>\n",
       "      <td>326.964447</td>\n",
       "    </tr>\n",
       "    <tr>\n",
       "      <td>75%</td>\n",
       "      <td>738.809998</td>\n",
       "    </tr>\n",
       "    <tr>\n",
       "      <td>max</td>\n",
       "      <td>1526.689941</td>\n",
       "    </tr>\n",
       "  </tbody>\n",
       "</table>\n",
       "</div>"
      ],
      "text/plain": [
       "             price\n",
       "count  3934.000000\n",
       "mean    503.835213\n",
       "std     353.762827\n",
       "min      49.818268\n",
       "25%     237.599419\n",
       "50%     326.964447\n",
       "75%     738.809998\n",
       "max    1526.689941"
      ]
     },
     "execution_count": 4,
     "metadata": {},
     "output_type": "execute_result"
    }
   ],
   "source": [
    "df.describe()"
   ]
  },
  {
   "cell_type": "markdown",
   "metadata": {},
   "source": [
    "## Visualise the data"
   ]
  },
  {
   "cell_type": "code",
   "execution_count": 5,
   "metadata": {
    "scrolled": true
   },
   "outputs": [
    {
     "data": {
      "text/plain": [
       "<matplotlib.axes._subplots.AxesSubplot at 0x24d5f456c88>"
      ]
     },
     "execution_count": 5,
     "metadata": {},
     "output_type": "execute_result"
    }
   ],
   "source": [
    "#plot to visualise the time series trend\n",
    "from matplotlib import pyplot as plt\n",
    "df['price'].plot()"
   ]
  },
  {
   "cell_type": "markdown",
   "metadata": {},
   "source": [
    "From the above plot it is clear that Alphabet stock price has clearly an increasing trend which indicates that this time series data is not stationary. "
   ]
  },
  {
   "cell_type": "markdown",
   "metadata": {},
   "source": [
    "#### Test Train splits \n",
    "\n",
    "To test the built ARIMA model, data is split into train and test. Last ~300 data points in the time series data will be forecasted and the test data separated here would be used to compare the forecasted results."
   ]
  },
  {
   "cell_type": "code",
   "execution_count": 6,
   "metadata": {},
   "outputs": [
    {
     "data": {
      "text/html": [
       "<div>\n",
       "<style scoped>\n",
       "    .dataframe tbody tr th:only-of-type {\n",
       "        vertical-align: middle;\n",
       "    }\n",
       "\n",
       "    .dataframe tbody tr th {\n",
       "        vertical-align: top;\n",
       "    }\n",
       "\n",
       "    .dataframe thead th {\n",
       "        text-align: right;\n",
       "    }\n",
       "</style>\n",
       "<table border=\"1\" class=\"dataframe\">\n",
       "  <thead>\n",
       "    <tr style=\"text-align: right;\">\n",
       "      <th></th>\n",
       "      <th>price</th>\n",
       "    </tr>\n",
       "    <tr>\n",
       "      <th>Date</th>\n",
       "      <th></th>\n",
       "    </tr>\n",
       "  </thead>\n",
       "  <tbody>\n",
       "    <tr>\n",
       "      <td>2020-02-10</td>\n",
       "      <td>1508.680054</td>\n",
       "    </tr>\n",
       "    <tr>\n",
       "      <td>2020-02-11</td>\n",
       "      <td>1508.790039</td>\n",
       "    </tr>\n",
       "    <tr>\n",
       "      <td>2020-02-12</td>\n",
       "      <td>1518.270020</td>\n",
       "    </tr>\n",
       "    <tr>\n",
       "      <td>2020-02-13</td>\n",
       "      <td>1514.660034</td>\n",
       "    </tr>\n",
       "    <tr>\n",
       "      <td>2020-02-14</td>\n",
       "      <td>1520.739990</td>\n",
       "    </tr>\n",
       "  </tbody>\n",
       "</table>\n",
       "</div>"
      ],
      "text/plain": [
       "                  price\n",
       "Date                   \n",
       "2020-02-10  1508.680054\n",
       "2020-02-11  1508.790039\n",
       "2020-02-12  1518.270020\n",
       "2020-02-13  1514.660034\n",
       "2020-02-14  1520.739990"
      ]
     },
     "execution_count": 6,
     "metadata": {},
     "output_type": "execute_result"
    }
   ],
   "source": [
    "#divide data into training and testing\n",
    "train = df[:3900]\n",
    "test = df[3900:]\n",
    "train.tail()"
   ]
  },
  {
   "cell_type": "code",
   "execution_count": 7,
   "metadata": {},
   "outputs": [
    {
     "data": {
      "text/html": [
       "<div>\n",
       "<style scoped>\n",
       "    .dataframe tbody tr th:only-of-type {\n",
       "        vertical-align: middle;\n",
       "    }\n",
       "\n",
       "    .dataframe tbody tr th {\n",
       "        vertical-align: top;\n",
       "    }\n",
       "\n",
       "    .dataframe thead th {\n",
       "        text-align: right;\n",
       "    }\n",
       "</style>\n",
       "<table border=\"1\" class=\"dataframe\">\n",
       "  <thead>\n",
       "    <tr style=\"text-align: right;\">\n",
       "      <th></th>\n",
       "      <th>price</th>\n",
       "    </tr>\n",
       "    <tr>\n",
       "      <th>Date</th>\n",
       "      <th></th>\n",
       "    </tr>\n",
       "  </thead>\n",
       "  <tbody>\n",
       "    <tr>\n",
       "      <td>2020-02-18</td>\n",
       "      <td>1519.670044</td>\n",
       "    </tr>\n",
       "    <tr>\n",
       "      <td>2020-02-19</td>\n",
       "      <td>1526.689941</td>\n",
       "    </tr>\n",
       "    <tr>\n",
       "      <td>2020-02-20</td>\n",
       "      <td>1518.150024</td>\n",
       "    </tr>\n",
       "    <tr>\n",
       "      <td>2020-02-21</td>\n",
       "      <td>1485.109985</td>\n",
       "    </tr>\n",
       "    <tr>\n",
       "      <td>2020-02-24</td>\n",
       "      <td>1421.589966</td>\n",
       "    </tr>\n",
       "  </tbody>\n",
       "</table>\n",
       "</div>"
      ],
      "text/plain": [
       "                  price\n",
       "Date                   \n",
       "2020-02-18  1519.670044\n",
       "2020-02-19  1526.689941\n",
       "2020-02-20  1518.150024\n",
       "2020-02-21  1485.109985\n",
       "2020-02-24  1421.589966"
      ]
     },
     "execution_count": 7,
     "metadata": {},
     "output_type": "execute_result"
    }
   ],
   "source": [
    "test.head()"
   ]
  },
  {
   "cell_type": "markdown",
   "metadata": {},
   "source": [
    "## ADF test to check stationarity"
   ]
  },
  {
   "cell_type": "markdown",
   "metadata": {},
   "source": [
    "Although above plot clearly indicates that the time series data is not stationary, ADF (Augmented Dickey fuller) test is further performed to check the stationarity in a statistical manner"
   ]
  },
  {
   "cell_type": "code",
   "execution_count": 8,
   "metadata": {
    "scrolled": true
   },
   "outputs": [
    {
     "name": "stdout",
     "output_type": "stream",
     "text": [
      "ADF Statistic: 1.725443\n",
      "p-value: 0.998189\n"
     ]
    }
   ],
   "source": [
    "#ADF Test to check if time series is stationary or non-stationary\n",
    "\n",
    "from statsmodels.tsa.stattools import adfuller\n",
    "X = train['price']\n",
    "result = adfuller(X)\n",
    "print('ADF Statistic: %f' % result[0])\n",
    "print('p-value: %f' % result[1])\n",
    "\n",
    "\n",
    "#The null hypothesis of the ADF test is that the time series is non-stationary\n",
    "#So, if the p-value of the test is less than significance level (0.05) then you reject the null hypothesis and infer that the time series is indeed stationary.\n"
   ]
  },
  {
   "cell_type": "markdown",
   "metadata": {},
   "source": [
    "Since P value is very high, it clearly shows that the time series is non stationary and we need to perform differencing for making the series stationary"
   ]
  },
  {
   "cell_type": "code",
   "execution_count": 9,
   "metadata": {
    "scrolled": false
   },
   "outputs": [
    {
     "data": {
      "text/plain": [
       "<matplotlib.axes._subplots.AxesSubplot at 0x24d5f90a5c8>"
      ]
     },
     "execution_count": 9,
     "metadata": {},
     "output_type": "execute_result"
    },
    {
     "data": {
      "image/png": "[encoded data removed]",
      "text/plain": [
       "<Figure size 432x288 with 1 Axes>"
      ]
     },
     "metadata": {
      "needs_background": "light"
     },
     "output_type": "display_data"
    }
   ],
   "source": [
    "# as p-value >0.05, differencing\n",
    "train['price_diff'] = train['price'] - train['price'].shift(1)\n",
    "train['price_diff'].dropna().plot()"
   ]
  },
  {
   "cell_type": "markdown",
   "metadata": {},
   "source": [
    "After performing the first differencing, despite the above plot which shows stationary, we perform ADF test again to confirm statistically"
   ]
  },
  {
   "cell_type": "code",
   "execution_count": 10,
   "metadata": {},
   "outputs": [
    {
     "name": "stdout",
     "output_type": "stream",
     "text": [
      "ADF Statistic: -11.172376\n",
      "p-value: 0.000000\n"
     ]
    }
   ],
   "source": [
    "#ADF Test to check if time series is stationary or non-stationary after first differencing\n",
    "X_1 = train['price_diff'].dropna()\n",
    "result = adfuller(X_1)\n",
    "print('ADF Statistic: %f' % result[0])\n",
    "print('p-value: %f' % result[1])"
   ]
  },
  {
   "cell_type": "markdown",
   "metadata": {},
   "source": [
    "Above p-value indicates that first differencing has made the data stationary. Hence the value of 1 can be used as a differencing 'd' parameter in the ARIMA model. Next step is to identify the right 'p' & 'q' values for the ARIMA model using ACF & PACH plots as shown below."
   ]
  },
  {
   "cell_type": "markdown",
   "metadata": {},
   "source": [
    "## ACF and PACF"
   ]
  },
  {
   "cell_type": "code",
   "execution_count": 11,
   "metadata": {},
   "outputs": [],
   "source": [
    "from statsmodels.graphics.tsaplots import plot_acf,plot_pacf\n",
    "import statsmodels.api as sm"
   ]
  },
  {
   "cell_type": "code",
   "execution_count": 12,
   "metadata": {
    "scrolled": true
   },
   "outputs": [
    {
     "data": {
      "image/png": "[encoded data removed]",
      "text/plain": [
       "<Figure size 864x576 with 2 Axes>"
      ]
     },
     "metadata": {
      "needs_background": "light"
     },
     "output_type": "display_data"
    }
   ],
   "source": [
    "fig = plt.figure(figsize=(12,8))\n",
    "ax1 = fig.add_subplot(211)\n",
    "fig = sm.graphics.tsa.plot_acf(train['price_diff'].iloc[1:],lags=10, zero = False, ax=ax1)\n",
    "ax2 = fig.add_subplot(212)\n",
    "fig = sm.graphics.tsa.plot_pacf(train['price_diff'].iloc[1:],lags=10, zero = False, ax=ax2)"
   ]
  },
  {
   "cell_type": "markdown",
   "metadata": {},
   "source": [
    "We take p = 2 and q =2 as with any next level of differencing, the Autocorrelation plot goes into the far negative zone fairly quickly, which indicates, the series might have been over-differenced."
   ]
  },
  {
   "cell_type": "markdown",
   "metadata": {},
   "source": [
    "## Tuning p(AR) term"
   ]
  },
  {
   "cell_type": "code",
   "execution_count": 16,
   "metadata": {},
   "outputs": [],
   "source": [
    "# empty list to store aic/bic score\n",
    "aic_p = []\n",
    "bic_p = []\n",
    "\n",
    "# p values\n",
    "p = range(1,6) # [1,2,3,4,5]\n",
    "\n",
    "# aic/bic score for different values of p\n",
    "for i in p:\n",
    "    model = ARIMA(train['price'], order=(i,1,0)) # define AR model\n",
    "    model_fit = model.fit(disp=-1) # fit the model\n",
    "    aic_temp = model_fit.aic # get aic score\n",
    "    bic_temp = model_fit.bic # get bic score\n",
    "    aic_p.append(aic_temp) # append aic score\n",
    "    bic_p.append(bic_temp) # append bic score"
   ]
  },
  {
   "cell_type": "code",
   "execution_count": 25,
   "metadata": {
    "scrolled": true
   },
   "outputs": [
    {
     "data": {
      "image/png": "[encoded data removed]",
      "text/plain": [
       "<Figure size 432x288 with 1 Axes>"
      ]
     },
     "metadata": {
      "needs_background": "light"
     },
     "output_type": "display_data"
    }
   ],
   "source": [
    "# Plot of AIC/BIC score for AR term\n",
    "plt.plot(range(1,6),aic_p, color='red')\n",
    "plt.plot(range(1,6),bic_p)\n",
    "plt.title('Tuning AR term')\n",
    "plt.xlabel('p (AR term)')\n",
    "plt.ylabel('AIC/BIC score')\n",
    "plt.legend(['AIC score','BIC score'])\n",
    "plt.show()"
   ]
  },
  {
   "cell_type": "code",
   "execution_count": 26,
   "metadata": {},
   "outputs": [],
   "source": [
    "## Tuning q(MA) term"
   ]
  },
  {
   "cell_type": "code",
   "execution_count": 27,
   "metadata": {},
   "outputs": [],
   "source": [
    "# empty list to store aic/bic score\n",
    "aic_q = []\n",
    "bic_q = []\n",
    "\n",
    "# q values\n",
    "q = range(1,6) # [1,2,3,4,5]\n",
    "\n",
    "# aic/bic score for different values of q\n",
    "for i in q:\n",
    "    model = ARIMA(train['price'], order=(0,1,i)) # define MA model\n",
    "    model_fit = model.fit(disp=-1) # fit the model\n",
    "    aic_temp = model_fit.aic # get aic score\n",
    "    bic_temp = model_fit.bic # get bic score\n",
    "    aic_q.append(aic_temp) # append aic score\n",
    "    bic_q.append(bic_temp) # append bic score"
   ]
  },
  {
   "cell_type": "code",
   "execution_count": 28,
   "metadata": {},
   "outputs": [
    {
     "data": {
      "image/png": "[encoded data removed]",
      "text/plain": [
       "<Figure size 432x288 with 1 Axes>"
      ]
     },
     "metadata": {
      "needs_background": "light"
     },
     "output_type": "display_data"
    }
   ],
   "source": [
    "# Plot of AIC/BIC score for MA term\n",
    "plt.plot(range(1,6),aic_q, color='red')\n",
    "plt.plot(range(1,6),bic_q)\n",
    "plt.title('Tuning MA term')\n",
    "plt.xlabel('q (MA term)')\n",
    "plt.ylabel('AIC/BIC score')\n",
    "plt.legend(['AIC score','BIC score'])\n",
    "plt.show()"
   ]
  },
  {
   "cell_type": "markdown",
   "metadata": {},
   "source": [
    "## ARIMA"
   ]
  },
  {
   "cell_type": "code",
   "execution_count": 31,
   "metadata": {},
   "outputs": [
    {
     "name": "stdout",
     "output_type": "stream",
     "text": [
      "                             ARIMA Model Results                              \n",
      "==============================================================================\n",
      "Dep. Variable:                D.price   No. Observations:                 3899\n",
      "Model:                 ARIMA(2, 1, 2)   Log Likelihood              -14158.452\n",
      "Method:                       css-mle   S.D. of innovations              9.137\n",
      "Date:                Thu, 04 Jun 2020   AIC                          28328.905\n",
      "Time:                        11:46:25   BIC                          28366.515\n",
      "Sample:                             1   HQIC                         28342.254\n",
      "                                                                              \n",
      "=================================================================================\n",
      "                    coef    std err          z      P>|z|      [0.025      0.975]\n",
      "---------------------------------------------------------------------------------\n",
      "const             0.3755      0.119      3.149      0.002       0.142       0.609\n",
      "ar.L1.D.price     0.0511      0.154      0.332      0.740      -0.250       0.352\n",
      "ar.L2.D.price     0.6211      0.142      4.370      0.000       0.343       0.900\n",
      "ma.L1.D.price    -0.0554      0.146     -0.380      0.704      -0.341       0.230\n",
      "ma.L2.D.price    -0.6776      0.136     -5.000      0.000      -0.943      -0.412\n",
      "                                    Roots                                    \n",
      "=============================================================================\n",
      "                  Real          Imaginary           Modulus         Frequency\n",
      "-----------------------------------------------------------------------------\n",
      "AR.1            1.2284           +0.0000j            1.2284            0.0000\n",
      "AR.2           -1.3106           +0.0000j            1.3106            0.5000\n",
      "MA.1            1.1747           +0.0000j            1.1747            0.0000\n",
      "MA.2           -1.2564           +0.0000j            1.2564            0.5000\n",
      "-----------------------------------------------------------------------------\n",
      "                 0\n",
      "count  3899.000000\n",
      "mean      0.000025\n",
      "std       9.138449\n",
      "min     -98.539754\n",
      "25%      -3.158126\n",
      "50%      -0.140759\n",
      "75%       3.248041\n",
      "max     117.839429\n"
     ]
    },
    {
     "data": {
      "image/png": "[encoded data removed]",
      "text/plain": [
       "<Figure size 432x288 with 1 Axes>"
      ]
     },
     "metadata": {
      "needs_background": "light"
     },
     "output_type": "display_data"
    },
    {
     "data": {
      "image/png": "[encoded data removed]",
      "text/plain": [
       "<Figure size 432x288 with 1 Axes>"
      ]
     },
     "metadata": {
      "needs_background": "light"
     },
     "output_type": "display_data"
    },
    {
     "name": "stdout",
     "output_type": "stream",
     "text": [
      "                 0\n",
      "count  3899.000000\n",
      "mean      0.000025\n",
      "std       9.138449\n",
      "min     -98.539754\n",
      "25%      -3.158126\n",
      "50%      -0.140759\n",
      "75%       3.248041\n",
      "max     117.839429\n"
     ]
    }
   ],
   "source": [
    "from statsmodels.tsa.arima_model import ARIMA\n",
    "model = ARIMA(train['price'].dropna(), order=(2,1,2))\n",
    "model_fit = model.fit(disp=0)\n",
    "print(model_fit.summary())\n",
    "\n",
    "# plot residual errors\n",
    "residuals = pd.DataFrame(model_fit.resid)\n",
    "residuals.plot()\n",
    "print(residuals.describe())\n",
    "plt.show()\n",
    "residuals.plot(kind='kde')\n",
    "plt.show()\n",
    "print(residuals.describe())\n"
   ]
  },
  {
   "cell_type": "code",
   "execution_count": 32,
   "metadata": {},
   "outputs": [
    {
     "name": "stdout",
     "output_type": "stream",
     "text": [
      "Forecast: 1520.411437\n"
     ]
    }
   ],
   "source": [
    "#forecast one day\n",
    "\n",
    "forecast = model_fit.forecast()[0]\n",
    "print('Forecast: %f' % forecast)"
   ]
  },
  {
   "cell_type": "code",
   "execution_count": 33,
   "metadata": {},
   "outputs": [
    {
     "name": "stdout",
     "output_type": "stream",
     "text": [
      "predicted=1521.421971, expected=1519.670044\n",
      "predicted=1519.691905, expected=1526.689941\n",
      "predicted=1527.208144, expected=1518.150024\n",
      "predicted=1518.140376, expected=1485.109985\n",
      "predicted=1485.954391, expected=1421.589966\n",
      "predicted=1423.083855, expected=1388.449951\n",
      "predicted=1391.163313, expected=1393.180054\n",
      "predicted=1394.764845, expected=1318.089966\n",
      "predicted=1316.926784, expected=1339.329956\n",
      "predicted=1343.219273, expected=1389.109985\n",
      "predicted=1387.642762, expected=1341.390015\n",
      "predicted=1340.040419, expected=1386.520020\n",
      "predicted=1388.827482, expected=1319.040039\n",
      "predicted=1317.328501, expected=1298.410034\n",
      "predicted=1303.648516, expected=1215.560059\n",
      "predicted=1214.310473, expected=1280.390015\n",
      "predicted=1281.875725, expected=1215.410034\n",
      "predicted=1216.631791, expected=1114.910034\n",
      "predicted=1121.222310, expected=1219.729980\n",
      "predicted=1212.153645, expected=1084.329956\n",
      "predicted=1094.094876, expected=1119.800049\n",
      "predicted=1123.212442, expected=1096.800049\n",
      "predicted=1092.852568, expected=1115.290039\n",
      "predicted=1120.018145, expected=1072.319946\n",
      "predicted=1070.955531, expected=1056.619995\n",
      "predicted=1064.723020, expected=1134.459961\n",
      "predicted=1121.546481, expected=1102.489990\n",
      "predicted=1108.321407, expected=1161.750000\n",
      "predicted=1155.588459, expected=1110.709961\n",
      "predicted=1114.205189, expected=1146.819946\n",
      "predicted=1147.347793, expected=1162.810059\n",
      "predicted=1156.215799, expected=1105.619995\n",
      "predicted=1116.208517, expected=1120.839966\n",
      "predicted=1118.454199, expected=1097.880005\n"
     ]
    }
   ],
   "source": [
    "predictions = list()\n",
    "train_data = [x for x in train['price']]\n",
    "for t in range(test.shape[0]):\n",
    "    model = ARIMA(train_data, order=(2,1,1))\n",
    "    model_fit = model.fit(disp=0)\n",
    "    output = model_fit.forecast()\n",
    "    yhat = output[0]\n",
    "    predictions.append(yhat)\n",
    "    obs = test.price[t]\n",
    "    train_data.append(obs)\n",
    "    print('predicted=%f, expected=%f' % (yhat, obs))\n"
   ]
  },
  {
   "cell_type": "code",
   "execution_count": 34,
   "metadata": {},
   "outputs": [
    {
     "name": "stdout",
     "output_type": "stream",
     "text": [
      "Test MSE: 2831.322\n"
     ]
    },
    {
     "data": {
      "image/png": "[encoded data removed]",
      "text/plain": [
       "<Figure size 432x288 with 1 Axes>"
      ]
     },
     "metadata": {
      "needs_background": "light"
     },
     "output_type": "display_data"
    }
   ],
   "source": [
    "from sklearn.metrics import mean_squared_error\n",
    "error = mean_squared_error(test, predictions)\n",
    "print('Test MSE: %.3f' % error)\n",
    "# plot\n",
    "pd.Series(np.array(test.price)).plot(kind='line', color = 'g')\n",
    "pd.Series(np.concatenate( predictions, axis=0 )).plot(kind='line', color = 'r')\n",
    "\n",
    "plt.show()"
   ]
  },
  {
   "cell_type": "markdown",
   "metadata": {},
   "source": [
    "Although the direction is predicted correctly, we can implement trading strategy of buy or sell - the magnitude is not accurate which can be seen from MSE. Machine learning models can be further used to build better model\n"
   ]
  }
 ],
 "metadata": {
  "kernelspec": {
   "display_name": "Python 3",
   "language": "python",
   "name": "python3"
  },
  "language_info": {
   "codemirror_mode": {
    "name": "ipython",
    "version": 3
   },
   "file_extension": ".py",
   "mimetype": "text/x-python",
   "name": "python",
   "nbconvert_exporter": "python",
   "pygments_lexer": "ipython3",
   "version": "3.7.4"
  }
 },
 "nbformat": 4,
 "nbformat_minor": 2
}
